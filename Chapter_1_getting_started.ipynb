{
  "cells": [
    {
      "cell_type": "raw",
      "metadata": {},
      "source": [
        "---\n",
        "title: 'Chapter 1: getting started with python'\n",
        "format: html\n",
        "---"
      ],
      "id": "27f0d037"
    },
    {
      "cell_type": "markdown",
      "metadata": {},
      "source": [
        "## Background\n",
        "\n",
        "*   Can use Jupyter notebooks whcih is an Integrated Development        Environment, which have extension .ipynb\n",
        "* Can embed a jupyter cell into quarto by writing ```{python} and  the 3 back ticks again after\n"
      ],
      "id": "6e09af9a"
    },
    {
      "cell_type": "code",
      "metadata": {},
      "source": [
        "3+4"
      ],
      "id": "9032a747",
      "execution_count": null,
      "outputs": []
    },
    {
      "cell_type": "markdown",
      "metadata": {},
      "source": [
        "* Jupyter has 2 parts, the kernel (the bit that runs the code) and a dashboard (basically a user interface)\n",
        "* In Jupyter, code is written in cells\n",
        "* We can add explanatory text in notebooks using markdown, and in Jupyter notebooks we can toggle between code and markdown in the drop-down menu \n",
        "* When writing in markdown, use the # for headers of various sizes, bold is two ** s on either side (**like this** ) and italics is just the one * (*like this*)"
      ],
      "id": "46e8d163"
    }
  ],
  "metadata": {
    "kernelspec": {
      "name": "quarto",
      "language": "python",
      "display_name": "quarto"
    }
  },
  "nbformat": 4,
  "nbformat_minor": 5
}