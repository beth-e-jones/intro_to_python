{
  "cells": [
    {
      "cell_type": "raw",
      "metadata": {},
      "source": [
        "---\n",
        "title: Untitled\n",
        "format: html\n",
        "---"
      ],
      "id": "34d4ea03"
    },
    {
      "cell_type": "markdown",
      "metadata": {},
      "source": [
        "## Importing packages and datasets\n",
        "For the exercises in this chapter, we have to import things."
      ],
      "id": "c03460b8"
    },
    {
      "cell_type": "code",
      "metadata": {},
      "source": [
        "import pandas as pd"
      ],
      "id": "9b7869c8",
      "execution_count": null,
      "outputs": []
    },
    {
      "cell_type": "markdown",
      "metadata": {},
      "source": [
        "and then import all the datasets we need;. .. not needed as the data folder is on the same level as this notebook in the file structure/filepath."
      ],
      "id": "ffa9e262"
    },
    {
      "cell_type": "code",
      "metadata": {},
      "source": [
        "animals = pd.read_csv(\"data/animals.csv\")\n",
        "titanic = pd.read_excel(\"data/titanic.xlsx\")\n",
        "joining_data1 = pd.read_csv(\"data/joining_data1.csv\")\n",
        "joining_data2 = pd.read_csv(\"data/joining_data2.csv\")\n",
        "union_join_data = pd.read_csv(\"data/union_data.csv\")\n",
        "marvel_left = pd.read_csv(\"data/joining_exercise1.csv\")\n",
        "marvel_right = pd.read_csv(\"data/joining_exercise2.csv\")"
      ],
      "id": "aeebb754",
      "execution_count": null,
      "outputs": []
    },
    {
      "cell_type": "markdown",
      "metadata": {},
      "source": [
        "We can check how the data looks with .head() - first 5 rows, .tail() - last 5 rows, and .sample() - random row. The () comes after because it's a function. \n"
      ],
      "id": "e4b5f607"
    },
    {
      "cell_type": "code",
      "metadata": {},
      "source": [
        "animals.head()"
      ],
      "id": "f2a1d207",
      "execution_count": null,
      "outputs": []
    },
    {
      "cell_type": "markdown",
      "metadata": {},
      "source": [
        "Other useful functions to summarise data include .info() for classes, ranges, number of columns and names, NaN values etc. and .shape() for the length and width. \n"
      ],
      "id": "124a72a5"
    },
    {
      "cell_type": "code",
      "metadata": {},
      "source": [
        "animals.info()"
      ],
      "id": "9e60b2a9",
      "execution_count": null,
      "outputs": []
    },
    {
      "cell_type": "markdown",
      "metadata": {},
      "source": [
        "We can do .info and .shape for individual columns based on their index position:"
      ],
      "id": "e074b8f5"
    },
    {
      "cell_type": "code",
      "metadata": {},
      "source": [
        "animals.shape[1]"
      ],
      "id": "46b8a60c",
      "execution_count": null,
      "outputs": []
    },
    {
      "cell_type": "markdown",
      "metadata": {},
      "source": [
        "Exercise 2.3"
      ],
      "id": "b962965d"
    },
    {
      "cell_type": "code",
      "metadata": {},
      "source": [
        "titanic.info()"
      ],
      "id": "118d4c10",
      "execution_count": null,
      "outputs": []
    },
    {
      "cell_type": "code",
      "metadata": {},
      "source": [
        "len(titanic)"
      ],
      "id": "d1c4960a",
      "execution_count": null,
      "outputs": []
    },
    {
      "cell_type": "code",
      "metadata": {},
      "source": [
        "len(titanic.columns)"
      ],
      "id": "aaa8753b",
      "execution_count": null,
      "outputs": []
    },
    {
      "cell_type": "markdown",
      "metadata": {},
      "source": [
        "We can check types of data in each column using .dtypes and the list of columns with .columnns\n"
      ],
      "id": "f36e287c"
    },
    {
      "cell_type": "code",
      "metadata": {},
      "source": [
        "titanic.dtypes"
      ],
      "id": "ab55adc8",
      "execution_count": null,
      "outputs": []
    },
    {
      "cell_type": "markdown",
      "metadata": {},
      "source": [
        "We can see details like head and tail subset by putting them into square brackets before the . e.g.,\n",
        "animals[\"AnimalClass\"].head()\n"
      ],
      "id": "e1e64990"
    },
    {
      "cell_type": "code",
      "metadata": {},
      "source": [
        "titanic.columns.tolist()"
      ],
      "id": "b67d59c6",
      "execution_count": null,
      "outputs": []
    },
    {
      "cell_type": "markdown",
      "metadata": {},
      "source": [
        "## Sorting data\n",
        "* We can sort data by specific columsn and add arguments, e.g.,\n",
        "animals_sorted = animals.sort_values(by=\"IncidentNominalCost(£)\", ascending=False)\n",
        "* When sorting by more than one column in descending order, it's best to specify ascending= as a list. This keeps the list same order as columns\n",
        "* Some versions of Pandas will sort both columns as descending if we just supply ascending = False ; however some won’t – so it’s better to be clear\n"
      ],
      "id": "1f59210b"
    },
    {
      "cell_type": "code",
      "metadata": {},
      "source": [
        "titanic.sort_values(by=\"age\")"
      ],
      "id": "f10c665a",
      "execution_count": null,
      "outputs": []
    },
    {
      "cell_type": "markdown",
      "metadata": {},
      "source": [
        "Exercise 2 - sort by age and sex"
      ],
      "id": "a2525cb6"
    },
    {
      "cell_type": "code",
      "metadata": {},
      "source": [
        "titanic_sorted = titanic.sort_values (by=[\"sex\",\"age\"])\n",
        "titanic_sorted.head()"
      ],
      "id": "7507bf11",
      "execution_count": null,
      "outputs": []
    },
    {
      "cell_type": "markdown",
      "metadata": {},
      "source": [
        "## "
      ],
      "id": "8a6cd7d3"
    }
  ],
  "metadata": {
    "kernelspec": {
      "name": "quarto",
      "language": "python",
      "display_name": "quarto"
    }
  },
  "nbformat": 4,
  "nbformat_minor": 5
}